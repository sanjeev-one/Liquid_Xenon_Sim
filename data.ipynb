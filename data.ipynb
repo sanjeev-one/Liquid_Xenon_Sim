import pandas as pd
import matplotlib.pyplot as plt

db = pd.read_csv("DetForward.txt", delimiter=" ", skiprows=3)

db.columns = (
    [
        "x",
        "y",
        "z",
        "px",
        "py",
        "pz",
        "t",
        "pdg",
        "event",
        "track",
        "ParentID",
        "weight",
    ],
)
plt.hist(db["pz"], bins=100)
plt.show()
